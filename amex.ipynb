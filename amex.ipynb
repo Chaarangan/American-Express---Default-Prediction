{
  "cells": [
    {
      "cell_type": "markdown",
      "id": "MFZg9LdNSr68",
      "metadata": {
        "id": "MFZg9LdNSr68"
      },
      "source": [
        "### Mount Drive"
      ]
    },
    {
      "cell_type": "code",
      "execution_count": 1,
      "id": "g83p3RQ5xFwR",
      "metadata": {
        "colab": {
          "base_uri": "https://localhost:8080/"
        },
        "id": "g83p3RQ5xFwR",
        "outputId": "0ca57f80-9b9f-4069-bdce-cb4729d80c45"
      },
      "outputs": [
        {
          "name": "stdout",
          "output_type": "stream",
          "text": [
            "Drive already mounted at /content/drive; to attempt to forcibly remount, call drive.mount(\"/content/drive\", force_remount=True).\n"
          ]
        }
      ],
      "source": [
        "from google.colab import drive\n",
        "drive.mount(\"/content/drive\")"
      ]
    },
    {
      "cell_type": "markdown",
      "id": "Xv4_hdqfSt7m",
      "metadata": {
        "id": "Xv4_hdqfSt7m"
      },
      "source": [
        "### Download Dataset from Kaggle"
      ]
    },
    {
      "cell_type": "code",
      "execution_count": null,
      "id": "sB_ol5v0xTZe",
      "metadata": {
        "id": "sB_ol5v0xTZe"
      },
      "outputs": [],
      "source": [
        "!mkdir -p ~/.kaggle\n",
        "!cp kaggle.json ~/.kaggle/\n",
        "!chmod 600 /root/.kaggle/kaggle.json"
      ]
    },
    {
      "cell_type": "code",
      "execution_count": null,
      "id": "iMp3p8SZyCqU",
      "metadata": {
        "colab": {
          "base_uri": "https://localhost:8080/"
        },
        "id": "iMp3p8SZyCqU",
        "outputId": "90e6c297-5916-48a7-a333-35bc000376fa"
      },
      "outputs": [
        {
          "name": "stdout",
          "output_type": "stream",
          "text": [
            "Downloading amex-data-integer-dtypes-parquet-format.zip to /content\n",
            "100% 4.07G/4.07G [03:26<00:00, 20.4MB/s]\n",
            "100% 4.07G/4.07G [03:26<00:00, 21.1MB/s]\n"
          ]
        }
      ],
      "source": [
        "!kaggle datasets download -d raddar/amex-data-integer-dtypes-parquet-format"
      ]
    },
    {
      "cell_type": "code",
      "execution_count": null,
      "id": "DRVGT2KXzYgi",
      "metadata": {
        "colab": {
          "base_uri": "https://localhost:8080/"
        },
        "id": "DRVGT2KXzYgi",
        "outputId": "db455e91-8159-41eb-9487-ce00a5a209f0"
      },
      "outputs": [
        {
          "name": "stdout",
          "output_type": "stream",
          "text": [
            "Archive:  /content/amex-data-integer-dtypes-parquet-format.zip\n",
            "  inflating: test.parquet            \n",
            "  inflating: train.parquet           \n"
          ]
        }
      ],
      "source": [
        "!unzip /content/amex-data-integer-dtypes-parquet-format.zip"
      ]
    },
    {
      "cell_type": "code",
      "execution_count": null,
      "id": "s83I602RxNIv",
      "metadata": {
        "id": "s83I602RxNIv"
      },
      "outputs": [],
      "source": [
        "!cp '/content/test.parquet' '/content/drive/MyDrive/ml/data'\n",
        "!cp '/content/train.parquet' '/content/drive/MyDrive/ml/data'"
      ]
    },
    {
      "cell_type": "markdown",
      "id": "1T_NY0_sSyJG",
      "metadata": {
        "id": "1T_NY0_sSyJG"
      },
      "source": [
        "### Install Requirements"
      ]
    },
    {
      "cell_type": "code",
      "execution_count": 2,
      "id": "2CemRFJgzikV",
      "metadata": {
        "colab": {
          "base_uri": "https://localhost:8080/"
        },
        "id": "2CemRFJgzikV",
        "outputId": "2694f294-21e6-4da3-fe7c-b301d1f0542d"
      },
      "outputs": [
        {
          "name": "stdout",
          "output_type": "stream",
          "text": [
            "Looking in indexes: https://pypi.org/simple, https://us-python.pkg.dev/colab-wheels/public/simple/\n",
            "Requirement already satisfied: catboost in /usr/local/lib/python3.8/dist-packages (1.1.1)\n",
            "Requirement already satisfied: matplotlib in /usr/local/lib/python3.8/dist-packages (from catboost) (3.2.2)\n",
            "Requirement already satisfied: pandas>=0.24.0 in /usr/local/lib/python3.8/dist-packages (from catboost) (1.3.5)\n",
            "Requirement already satisfied: numpy>=1.16.0 in /usr/local/lib/python3.8/dist-packages (from catboost) (1.21.6)\n",
            "Requirement already satisfied: scipy in /usr/local/lib/python3.8/dist-packages (from catboost) (1.7.3)\n",
            "Requirement already satisfied: graphviz in /usr/local/lib/python3.8/dist-packages (from catboost) (0.10.1)\n",
            "Requirement already satisfied: six in /usr/local/lib/python3.8/dist-packages (from catboost) (1.15.0)\n",
            "Requirement already satisfied: plotly in /usr/local/lib/python3.8/dist-packages (from catboost) (5.5.0)\n",
            "Requirement already satisfied: pytz>=2017.3 in /usr/local/lib/python3.8/dist-packages (from pandas>=0.24.0->catboost) (2022.7)\n",
            "Requirement already satisfied: python-dateutil>=2.7.3 in /usr/local/lib/python3.8/dist-packages (from pandas>=0.24.0->catboost) (2.8.2)\n",
            "Requirement already satisfied: cycler>=0.10 in /usr/local/lib/python3.8/dist-packages (from matplotlib->catboost) (0.11.0)\n",
            "Requirement already satisfied: kiwisolver>=1.0.1 in /usr/local/lib/python3.8/dist-packages (from matplotlib->catboost) (1.4.4)\n",
            "Requirement already satisfied: pyparsing!=2.0.4,!=2.1.2,!=2.1.6,>=2.0.1 in /usr/local/lib/python3.8/dist-packages (from matplotlib->catboost) (3.0.9)\n",
            "Requirement already satisfied: tenacity>=6.2.0 in /usr/local/lib/python3.8/dist-packages (from plotly->catboost) (8.1.0)\n"
          ]
        }
      ],
      "source": [
        "!pip install catboost"
      ]
    },
    {
      "cell_type": "markdown",
      "id": "kgndOeNFS06A",
      "metadata": {
        "id": "kgndOeNFS06A"
      },
      "source": [
        "### Import Libraries"
      ]
    },
    {
      "cell_type": "code",
      "execution_count": 19,
      "id": "b597db66",
      "metadata": {
        "_cell_guid": "b1076dfc-b9ad-4769-8c92-a6c4dae69d19",
        "_uuid": "8f2839f25d086af736a60e9eeb907d3b93b6e0e5",
        "execution": {
          "iopub.execute_input": "2022-08-26T03:17:52.690460Z",
          "iopub.status.busy": "2022-08-26T03:17:52.689835Z",
          "iopub.status.idle": "2022-08-26T03:17:55.375630Z",
          "shell.execute_reply": "2022-08-26T03:17:55.374280Z"
        },
        "id": "b597db66",
        "papermill": {
          "duration": 2.694623,
          "end_time": "2022-08-26T03:17:55.378606",
          "exception": false,
          "start_time": "2022-08-26T03:17:52.683983",
          "status": "completed"
        },
        "tags": []
      },
      "outputs": [],
      "source": [
        "import gc\n",
        "import os\n",
        "import pandas as pd\n",
        "import numpy as np\n",
        "import seaborn as sns\n",
        "import matplotlib.pyplot as plt\n",
        "\n",
        "from sklearn.impute import SimpleImputer\n",
        "from sklearn.preprocessing import StandardScaler\n",
        "\n",
        "from lightgbm import LGBMClassifier\n",
        "from catboost import CatBoostClassifier\n",
        "from sklearn.model_selection import KFold\n",
        "from sklearn.metrics import accuracy_score\n",
        "\n",
        "%matplotlib inline"
      ]
    },
    {
      "cell_type": "markdown",
      "id": "6b573b58",
      "metadata": {
        "id": "6b573b58",
        "papermill": {
          "duration": 0.003369,
          "end_time": "2022-08-26T03:17:55.385850",
          "exception": false,
          "start_time": "2022-08-26T03:17:55.382481",
          "status": "completed"
        },
        "tags": []
      },
      "source": [
        "### Config"
      ]
    },
    {
      "cell_type": "code",
      "execution_count": 4,
      "id": "_wRdE-jr2qri",
      "metadata": {
        "id": "_wRdE-jr2qri"
      },
      "outputs": [],
      "source": [
        "class config:\n",
        "    data_dir = '/content/drive/MyDrive/ml/data'\n",
        "    output_dir = '/content/drive/MyDrive/ml/output'\n",
        "    num_transactions = 2\n",
        "    seed = 42\n",
        "\n",
        "    # LGBM\n",
        "    n_estimators=300\n",
        "\n",
        "    # feature seelction\n",
        "    select_feature = True\n",
        "    threshold = 0.3\n",
        "    plot = False\n",
        "\n",
        "    #kfold\n",
        "    kfold = False\n",
        "    splits = 3"
      ]
    },
    {
      "cell_type": "markdown",
      "id": "6V1sg4JkS4wX",
      "metadata": {
        "id": "6V1sg4JkS4wX"
      },
      "source": [
        "### Functions"
      ]
    },
    {
      "cell_type": "code",
      "execution_count": 5,
      "id": "RmNbc8YR1zF_",
      "metadata": {
        "id": "RmNbc8YR1zF_"
      },
      "outputs": [],
      "source": [
        "def load_train_dataset(data_dir):\n",
        "  df_train_data = pd.read_parquet(os.path.join(data_dir, 'train.parquet'))\n",
        "  df_train_labels = pd.read_csv(os.path.join(data_dir, 'train_labels.csv'))\n",
        "\n",
        "  df_train_data = df_train_data.groupby('customer_ID').tail(config.num_transactions)\n",
        "  df_train_data = df_train_data.set_index('customer_ID', drop=True).sort_index()\n",
        "\n",
        "  df_train_labels = df_train_labels.set_index('customer_ID', drop=True).sort_index()\n",
        "  df_train = pd.merge(df_train_data, df_train_labels, left_index=True, right_index=True)\n",
        "\n",
        "  return df_train\n",
        "\n",
        "def load_test_dataset(data_dir):\n",
        "  df_test_data = pd.read_parquet(os.path.join(data_dir,'test.parquet'))\n",
        "\n",
        "  df_test_data = df_test_data.groupby('customer_ID').tail(1)\n",
        "  df_test = df_test_data.set_index('customer_ID', drop=True).sort_index()\n",
        "\n",
        "  return df_test"
      ]
    },
    {
      "cell_type": "code",
      "execution_count": 6,
      "id": "zZdP5iSJTtyP",
      "metadata": {
        "id": "zZdP5iSJTtyP"
      },
      "outputs": [],
      "source": [
        "def feature_selection():\n",
        "  # load dataset\n",
        "  df_train = load_train_dataset(config.data_dir)\n",
        "  \n",
        "  # preprocess dataset\n",
        "  train_X, train_y, scaler, imputer = preprocess_train_dataset(df_train)\n",
        "\n",
        "  df = pd.concat([train_X, pd.DataFrame(data = list(train_y), columns = [\"target\"])], axis=1)\n",
        "\n",
        "  # get correlation matrix\n",
        "  cont_variables_correlation = df.corr()\n",
        "\n",
        "  # filter matrix based on the threshold\n",
        "  df_filtered = cont_variables_correlation[cont_variables_correlation[\"target\"] > config.threshold]\n",
        "\n",
        "  # features\n",
        "  features = df_filtered.index\n",
        "\n",
        "  if config.plot:\n",
        "    #plot the heatmap showing calculated correlations\n",
        "    plt.subplots(figsize=(50, 50))\n",
        "    plt.title('Pearson Correlation of continous features')\n",
        "    ax = sns.heatmap(cont_variables_correlation, \n",
        "                    annot=True, \n",
        "                    linewidths=.5, \n",
        "                    cmap=\"YlGnBu\",\n",
        "                    square=True\n",
        "                    );\n",
        "  \n",
        "  return features"
      ]
    },
    {
      "cell_type": "code",
      "execution_count": 7,
      "id": "ab7bba2c",
      "metadata": {
        "execution": {
          "iopub.execute_input": "2022-08-26T03:17:55.394990Z",
          "iopub.status.busy": "2022-08-26T03:17:55.394561Z",
          "iopub.status.idle": "2022-08-26T03:18:43.615109Z",
          "shell.execute_reply": "2022-08-26T03:18:43.613994Z"
        },
        "id": "ab7bba2c",
        "papermill": {
          "duration": 48.228938,
          "end_time": "2022-08-26T03:18:43.618393",
          "exception": false,
          "start_time": "2022-08-26T03:17:55.389455",
          "status": "completed"
        },
        "tags": []
      },
      "outputs": [],
      "source": [
        "def preprocess_train_dataset(df_train, features = None, select_feature=False):\n",
        "  # whether to do feature selection\n",
        "  if select_feature:\n",
        "    features_array = features.to_numpy()\n",
        "    df_train = df_train[features_array]\n",
        "  else:\n",
        "    # drop unwanted columns\n",
        "    drop_cols = ['S_2']  \n",
        "    df_train.drop(drop_cols, inplace=True, axis=1)\n",
        "\n",
        "  train_y = df_train['target']\n",
        "  train_X = df_train.drop('target', axis=1)\n",
        "\n",
        "  col_names = train_X.columns\n",
        "\n",
        "  # handling missing values\n",
        "  imputer = SimpleImputer()\n",
        "  train_X = pd.DataFrame(imputer.fit_transform(train_X))\n",
        "  train_X.columns = col_names\n",
        "\n",
        "  # scaling\n",
        "  scaler = StandardScaler()\n",
        "  train_X_scaled = scaler.fit_transform(train_X)\n",
        "\n",
        "  # return dataset as df\n",
        "  train_X = pd.DataFrame(train_X_scaled, index=train_X.index, columns=train_X.columns)\n",
        "\n",
        "  return train_X, train_y, scaler, imputer"
      ]
    },
    {
      "cell_type": "code",
      "execution_count": 8,
      "id": "bt3BnV5R7HyW",
      "metadata": {
        "id": "bt3BnV5R7HyW"
      },
      "outputs": [],
      "source": [
        "def preprocess_test_data(df_test, imputer, scaler, features = None, select_feature=False):\n",
        "  cust_id = df_test.index\n",
        "\n",
        "  # whether to do feature selection\n",
        "  if select_feature:\n",
        "    new_features = features.delete(-1)\n",
        "    features_array = new_features.to_numpy()\n",
        "    df_test = df_test[features_array]\n",
        "  else:\n",
        "    drop_cols = ['S_2']  \n",
        "    df_test.drop(drop_cols, inplace=True, axis=1)\n",
        "\n",
        "  # handling missing values\n",
        "  col_names_test = df_test.columns\n",
        "  df_test = pd.DataFrame(imputer.transform(df_test))\n",
        "  df_test.columns = col_names_test\n",
        "\n",
        "  # scaling\n",
        "  df_test_scaled = scaler.transform(df_test)\n",
        "  df_test = pd.DataFrame(df_test_scaled, index=df_test.index, columns=df_test.columns)\n",
        "  return cust_id, df_test"
      ]
    },
    {
      "cell_type": "code",
      "execution_count": 20,
      "id": "xGX8o3SJuwxP",
      "metadata": {
        "id": "xGX8o3SJuwxP"
      },
      "outputs": [],
      "source": [
        "def kfold(x, y, model):\n",
        "  kf = KFold(n_splits = config.splits)\n",
        "  best_model = None\n",
        "  best_accuracy = 0.0\n",
        "\n",
        "  for train_index, val_index in kf.split(x):\n",
        "      X_train = x.iloc[train_index]\n",
        "      X_valid = x.iloc[val_index]\n",
        "      Y_train = y.iloc[train_index]\n",
        "      Y_valid = y.iloc[val_index]\n",
        "      \n",
        "      if model == \"lgbm\":\n",
        "        model = LGBMClassifier(n_estimators=config.n_estimators, random_seed=config.seed)\n",
        "      elif model == \"cbc\":\n",
        "        model = CatBoostClassifier(silent=True, random_seed=config.seed)\n",
        "\n",
        "      model.fit(X_train, Y_train)\n",
        "      y_pred = model.predict(X_valid)\n",
        "          \n",
        "      accuracy = accuracy_score(Y_valid, np.round(y_pred))\n",
        "      if accuracy > best_accuracy:\n",
        "        best_accuracy = accuracy\n",
        "        best_model = model\n",
        "    \n",
        "  print(f\"Best Accuracy of {model} is {str(best_accuracy)}\")\n",
        "  return best_model"
      ]
    },
    {
      "cell_type": "code",
      "execution_count": 10,
      "id": "PFyyCwxA40np",
      "metadata": {
        "id": "PFyyCwxA40np"
      },
      "outputs": [],
      "source": [
        "def LGBM(X, y):\n",
        "  lgbm = LGBMClassifier(n_estimators=config.n_estimators, random_seed=config.seed)\n",
        "  lgbm.fit(X, y)\n",
        "  return lgbm"
      ]
    },
    {
      "cell_type": "code",
      "execution_count": 11,
      "id": "eb23d5f9",
      "metadata": {
        "execution": {
          "iopub.execute_input": "2022-08-26T03:18:50.078377Z",
          "iopub.status.busy": "2022-08-26T03:18:50.077967Z",
          "iopub.status.idle": "2022-08-26T03:28:08.971099Z",
          "shell.execute_reply": "2022-08-26T03:28:08.969622Z"
        },
        "id": "eb23d5f9",
        "papermill": {
          "duration": 558.909682,
          "end_time": "2022-08-26T03:28:08.982666",
          "exception": false,
          "start_time": "2022-08-26T03:18:50.072984",
          "status": "completed"
        },
        "tags": []
      },
      "outputs": [],
      "source": [
        "def CatBoost(X, y):\n",
        "  cbc = CatBoostClassifier(silent=True, random_seed=config.seed)\n",
        "  cbc.fit(X, y)\n",
        "  return cbc"
      ]
    },
    {
      "cell_type": "code",
      "execution_count": 12,
      "id": "eS4xAN-J5SVj",
      "metadata": {
        "id": "eS4xAN-J5SVj"
      },
      "outputs": [],
      "source": [
        "def train():\n",
        "  # load dataset\n",
        "  df_train = load_train_dataset(config.data_dir)\n",
        "  \n",
        "  # preprocess dataset\n",
        "  features = None\n",
        "  if config.select_feature:\n",
        "    features = feature_selection()\n",
        "  train_X, train_y, scaler, imputer = preprocess_train_dataset(df_train, features, config.select_feature)\n",
        "\n",
        "  # model training\n",
        "  if config.kfold:\n",
        "    lgbm = kfold(train_X, train_y, \"lgbm\")\n",
        "    cbc = kfold(train_X, train_y, \"cbc\")\n",
        "  else:\n",
        "    lgbm = LGBM(train_X, train_y)\n",
        "    cbc = CatBoost(train_X, train_y)\n",
        "\n",
        "  return lgbm, cbc, scaler, imputer, features"
      ]
    },
    {
      "cell_type": "code",
      "execution_count": 13,
      "id": "DqCdGivx7sAz",
      "metadata": {
        "id": "DqCdGivx7sAz"
      },
      "outputs": [],
      "source": [
        "def test(lgbm, cbc, scaler, imputer, features):\n",
        "  # load dataset\n",
        "  df_test = load_test_dataset(config.data_dir)\n",
        "\n",
        "  # preprocess dataset\n",
        "  cust_id, df_test = preprocess_test_data(df_test, imputer, scaler, features, config.select_feature)\n",
        "\n",
        "  # get model predictions\n",
        "  preds_probs_lgbm = lgbm.predict_proba(df_test)\n",
        "  preds_probs_cbc = cbc.predict_proba(df_test)\n",
        "\n",
        "  # create dataframes for outputs\n",
        "  output_lgbm = pd.DataFrame(preds_probs_lgbm, dtype='float64')[1]\n",
        "  output_cbc = pd.DataFrame(preds_probs_cbc, dtype='float64')[1]\n",
        "\n",
        "  return cust_id, output_lgbm, output_cbc"
      ]
    },
    {
      "cell_type": "code",
      "execution_count": 14,
      "id": "ULr852tE8kDt",
      "metadata": {
        "id": "ULr852tE8kDt"
      },
      "outputs": [],
      "source": [
        "def write_output(cust_id, output_lgbm, output_cbc):\n",
        "  df_lgbm = pd.DataFrame({'customer_ID': cust_id, 'prediction': output_lgbm})\n",
        "  df_cbc = pd.DataFrame({'customer_ID': cust_id, 'prediction': output_cbc})\n",
        "\n",
        "  # write individual outputs to csv\n",
        "  df_lgbm.to_csv(os.path.join(config.output_dir, 'lgbm_submission.csv'), index=False)\n",
        "  df_cbc.to_csv(os.path.join(config.output_dir, 'cbc_submission.csv'), index=False)\n",
        "\n",
        "  # merge both outputs to calculate average\n",
        "  combined = df_cbc.merge(df_lgbm, left_on='customer_ID', right_on='customer_ID', suffixes=('_cbc', '_lgbm'))\n",
        "  combined['prediction'] = combined.mean(numeric_only=True, axis=1)\n",
        "  combined = combined[[\"customer_ID\", \"prediction\"]]\n",
        "  combined.to_csv(os.path.join(config.output_dir, 'avg_submission.csv'), index=False)"
      ]
    },
    {
      "cell_type": "markdown",
      "id": "G-MFLkpVS9HP",
      "metadata": {
        "id": "G-MFLkpVS9HP"
      },
      "source": [
        "### Train and Evaluate"
      ]
    },
    {
      "cell_type": "code",
      "execution_count": 15,
      "id": "2b851997",
      "metadata": {
        "execution": {
          "iopub.execute_input": "2022-08-26T03:29:14.819886Z",
          "iopub.status.busy": "2022-08-26T03:29:14.819462Z",
          "iopub.status.idle": "2022-08-26T03:29:22.519033Z",
          "shell.execute_reply": "2022-08-26T03:29:22.515832Z"
        },
        "id": "2b851997",
        "papermill": {
          "duration": 7.719967,
          "end_time": "2022-08-26T03:29:22.534261",
          "exception": false,
          "start_time": "2022-08-26T03:29:14.814294",
          "status": "completed"
        },
        "tags": []
      },
      "outputs": [],
      "source": [
        "def main():\n",
        "  lgbm, cbc, scaler, imputer, features = train()\n",
        "  cust_id, output_lgbm, output_cb = test(lgbm, cbc, scaler, imputer, features)\n",
        "  write_output(cust_id, output_lgbm, output_cb)"
      ]
    },
    {
      "cell_type": "code",
      "execution_count": null,
      "id": "MaDtieOj90LF",
      "metadata": {
        "id": "MaDtieOj90LF"
      },
      "outputs": [],
      "source": [
        "main()"
      ]
    }
  ],
  "metadata": {
    "accelerator": "GPU",
    "colab": {
      "collapsed_sections": [
        "Xv4_hdqfSt7m"
      ],
      "machine_shape": "hm",
      "provenance": []
    },
    "gpuClass": "premium",
    "kernelspec": {
      "display_name": "Python 3",
      "language": "python",
      "name": "python3"
    },
    "language_info": {
      "codemirror_mode": {
        "name": "ipython",
        "version": 3
      },
      "file_extension": ".py",
      "mimetype": "text/x-python",
      "name": "python",
      "nbconvert_exporter": "python",
      "pygments_lexer": "ipython3",
      "version": "3.9.4 (default, Aug 23 2021, 17:04:58) \n[Clang 12.0.5 (clang-1205.0.22.11)]"
    },
    "papermill": {
      "default_parameters": {},
      "duration": 703.155354,
      "end_time": "2022-08-26T03:29:25.732724",
      "environment_variables": {},
      "exception": null,
      "input_path": "__notebook__.ipynb",
      "output_path": "__notebook__.ipynb",
      "parameters": {},
      "start_time": "2022-08-26T03:17:42.577370",
      "version": "2.3.4"
    },
    "vscode": {
      "interpreter": {
        "hash": "122f044b60339b4778918f3b499faba40b8fcd482ef1d57d57dc26fa73234925"
      }
    }
  },
  "nbformat": 4,
  "nbformat_minor": 5
}
